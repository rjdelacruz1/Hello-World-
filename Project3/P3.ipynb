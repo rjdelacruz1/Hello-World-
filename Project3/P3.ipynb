{
  "nbformat": 4,
  "nbformat_minor": 0,
  "metadata": {
    "colab": {
      "provenance": [],
      "gpuType": "T4"
    },
    "kernelspec": {
      "name": "python3",
      "display_name": "Python 3"
    },
    "language_info": {
      "name": "python"
    },
    "accelerator": "GPU"
  },
  "cells": [
    {
      "cell_type": "markdown",
      "source": [
        "---\n",
        "\n",
        "```\n",
        "CISC 3440: Machine Learning\n",
        "P3 (35 +5 Points)\n",
        "Due: Dec 13th, 11:59 pm\n",
        "```\n",
        "---\n",
        "**Submission Instructions**\n",
        "\n",
        "\n",
        "* You are expected to complete this project on your own (not with a partner).\n",
        "* Please refer to the syllabus for the late submission policy.\n",
        "* You must submit your assignment via Blackboard.\n",
        "* Your code should work without errors; code that fails will not be graded.\n",
        "* **Note: Submissions later than Dec 15th will not be accepted**\n",
        "\n",
        "\n",
        "The project will involve two parts:\n",
        "1. In the first part you will implement a Multi-layer perceptron to model the AND gate.\n",
        "2. In the second part you will use Pytorch Library to work with Auto-Encoders."
      ],
      "metadata": {
        "id": "d-RiSuBSYJgZ"
      }
    },
    {
      "cell_type": "markdown",
      "source": [
        "##Part I: AND Gate.\n",
        "\n",
        "**Training Data** We will start by generating some training data. The data corresponds to four possible values for a two input AND gate. Below is the logic table corresponding to the AND gate.\n",
        "\n",
        "| Input \\(x_1\\) | Input \\(x_2\\) | Output \\(y\\) |\n",
        "|---------------|---------------|--------------|\n",
        "| 0             | 0             | 0            |\n",
        "| 0             | 1             | 0            |\n",
        "| 1             | 0             | 0            |\n",
        "| 1             | 1             | 1            |\n",
        "\n",
        "\n",
        "We will first create 1000 samples for each possible combination of input and output values. The code below generates the training dataset and stores it in the variable name *dataset*. Most of the computations in this project will depend on the Numpy library. If you are unfamiliar with Numpy, please refer to the Numpy tutorial on Blackboard.\n"
      ],
      "metadata": {
        "id": "mYD_y_R2upqT"
      }
    },
    {
      "cell_type": "code",
      "execution_count": null,
      "metadata": {
        "id": "0hxqCobczwnW",
        "colab": {
          "base_uri": "https://localhost:8080/"
        },
        "outputId": "af7adb03-3210-4edc-9319-5dcff31623e3"
      },
      "outputs": [
        {
          "output_type": "stream",
          "name": "stdout",
          "text": [
            "(4000, 3)\n"
          ]
        }
      ],
      "source": [
        "import numpy as np\n",
        "\n",
        "dataset=np.array([[0,0,0],[0,1,0],[1,0,0],[1,1,1]]*1000)\n",
        "print(dataset.shape)"
      ]
    },
    {
      "cell_type": "markdown",
      "source": [
        "**Weights and Initializations:**\n",
        "\n",
        "The code below initializes the weights and bias values for the hidden and output layers. We initialize the hidden values to small random values and set the bias to zero.\n"
      ],
      "metadata": {
        "id": "N95SKdeAwCNN"
      }
    },
    {
      "cell_type": "code",
      "source": [
        "weights_hidden =np.random.normal(0,0.1,2)\n",
        "weights_out=np.random.normal(0,0.1,1)[0]\n",
        "bias_hidden=0.0\n",
        "bias_out=0.0\n",
        "print(\"Weights hidden:{},weights_out:{},bias_hidden:{},bias out:{}\".format(weights_hidden,weights_out,bias_hidden,bias_out))"
      ],
      "metadata": {
        "colab": {
          "base_uri": "https://localhost:8080/"
        },
        "id": "O1Y8Pp5PZyk4",
        "outputId": "32169e1b-b367-4747-c1cb-5dc96639a1b4"
      },
      "execution_count": null,
      "outputs": [
        {
          "output_type": "stream",
          "name": "stdout",
          "text": [
            "Weights hidden:[ 0.03841947 -0.02467989],weights_out:0.08475497755580591,bias_hidden:0.0,bias out:0.0\n"
          ]
        }
      ]
    },
    {
      "cell_type": "markdown",
      "source": [
        "**[4 points] Task-1**\n",
        "\n",
        "The initializations above should give you insight into how the network is structured. To be precise on the network structure you will answer the following question:\n",
        "\n",
        "1. (2 points) Based on the network initialization we have, answer the following:\n",
        "  - How many neurons are there in the hidden layer?\n",
        "  - How many neurons are there in the output layer?\n",
        "  - What is the dimension of the bias for the hidden layer and the output layer?\n",
        "  - Draw the network diagram for the given network configuration, your diagram should depict the input, hidden and output layers.\n",
        "\n",
        "2. (1 point) Write the equation that computes the output values for the hidden layers, given the input [$x_1$,$x_2$], weights [$w_{h1}$,$w_{h2}$], and bias\n",
        " $b_h$. The equation is for a single sample.\n",
        "\n",
        "3. (1 point) Let $o_h$ be the output of the hidden unit in the hidden layer. If the weights and the bias of the output layer are $w_o$ and $b_o$. Write the equation to compute the output of the neuron in the output layer. The equation is for a single sample.\n"
      ],
      "metadata": {
        "id": "P1z1fZrlCpOB"
      }
    },
    {
      "cell_type": "markdown",
      "source": [
        "**[3 points] Task-2** Based on your answers to questions 1, 2, and 3, complete the forward function below. The forward function should take the following inputs:\n",
        "\n",
        "*   sample - a single sample from the input dataset\n",
        "*   weights_hidden - weight values corresponding to the hidden units\n",
        "*   weights_out - weight values corresponding to the output unit\n",
        "*   bias_hidden - bias for hidden units\n",
        "*   bias_out - bias for the output unit\n",
        "\n",
        "The function should return the output value. Compute the output of the entire network for the given sample based on your answers to the previous questions (2 & 3). **Note: To keep the implementation simple we have skipped the activation functions**\n",
        "\n"
      ],
      "metadata": {
        "id": "4m7JmAPgE5wQ"
      }
    },
    {
      "cell_type": "code",
      "source": [
        "def forward(sample,weights_hidden,weights_out,bias_hidden,bias_out):\n",
        "  \"\"\"\n",
        "    Computes the forward pass for a simple neural network with one hidden layer and one output layer.\n",
        "\n",
        "    Parameters:\n",
        "    ----------\n",
        "    sample : numpy.ndarray\n",
        "        The input vector for the forward pass. It should have a size matching the `weights_hidden` dimensions.\n",
        "    weights_hidden : numpy.ndarray\n",
        "        The weights of the hidden layer. This should match the dimensions of the input `sample`.\n",
        "    weights_out : float\n",
        "        The weight of the output layer connecting the hidden layer to the output neuron.\n",
        "    bias_hidden : float\n",
        "        The bias term added to the hidden layer computation.\n",
        "    bias_out : float\n",
        "        The bias term added to the output layer computation.\n",
        "\n",
        "    Returns:\n",
        "    -------\n",
        "    output_value : float\n",
        "        The final output value computed from the network after the forward pass.\n",
        "    hidden_value : float\n",
        "        The intermediate value computed at the hidden layer before applying the output computation.\n",
        "\n",
        "    Example:\n",
        "    -------\n",
        "    >>> import numpy as np\n",
        "    >>> sample = np.array([1.0, 2.0])\n",
        "    >>> weights_hidden = np.array([0.5, -0.3])\n",
        "    >>> weights_out = 1.2\n",
        "    >>> bias_hidden = 0.1\n",
        "    >>> bias_out = -0.2\n",
        "    >>> forward(sample, weights_hidden, weights_out, bias_hidden, bias_out)\n",
        "    (0.94, 0.7)\n",
        "    \"\"\"\n",
        "  #FILL IN\n",
        "  hidden_value=None\n",
        "  output_value=None\n",
        "  return output_value,hidden_value"
      ],
      "metadata": {
        "id": "hmWBx53FaPw1"
      },
      "execution_count": null,
      "outputs": []
    },
    {
      "cell_type": "markdown",
      "source": [
        "**[5 points] Task-3**\n",
        "\n",
        "Next, we will implement the backward pass. In the backward pass, you will receive a sample, make a call to the forward pass and obtain the prediction. With the obtained prediction you will estimate the error and backpropagate it. Before we begin the implementation, let us define the different elements of the parameters and establish the equations for their gradients.\n",
        "\n",
        "We will define the error as the square difference between the label and the output (prediction):\n",
        "$$E(error) = \\frac{1}{2} (\\text{label} - \\text{output})^2$$\n",
        "\n",
        "Below are the notations denoting different parameters, in your answers to the questions to this task, use these notations.\n",
        "$$\\text{sample} = [x_{1}, x_{2}]$$\n",
        "$$\\text{weights_hidden} = [w_{h1}, w_{h2}]$$\n",
        "$$\\text{weights_out} = w_{o}$$\n",
        "$$\\text{bias_hidden} = b_{h}$$\n",
        "$$\\text{bias_out} = b_{o}$$\n",
        "\n",
        "Using the above-defined notations answer the questions below:\n",
        "4. (2.5 points) Write the equations for the following derivatives:\n",
        "    -  gradient_wo($\\frac{\\partial E}{\\partial w_o}$)\n",
        "    -  gradient_bo($\\frac{\\partial E}{\\partial b_o}$)\n",
        "    -  gradient_wh1($\\frac{\\partial E}{\\partial w_{h1}}$)\n",
        "    -  gradient_wh2($\\frac{\\partial E}{\\partial w_{h2}}$)\n",
        "    -  gradient_bh($\\frac{\\partial E}{\\partial b_{h}}$)\n",
        "5. (2.5 points) Write the equations to update the parameter below, let $lr$ denote the learning rate:\n",
        "    - $w_{h1}$=\n",
        "    - $w_{h2}$=\n",
        "    - $w_{o}$=\n",
        "    - $b_{h}$=\n",
        "    - $b_{o}$=\n",
        "\n"
      ],
      "metadata": {
        "id": "UBnZc9L1GfkY"
      }
    },
    {
      "cell_type": "markdown",
      "source": [
        "**[6 points] Task-4**\n",
        "\n",
        "You have now figured out the equations to derive the parameters. The next part is to implement them as part of the backward function. Using the above equations, complete the rest of the code.\n",
        "\n"
      ],
      "metadata": {
        "id": "Jh6HWkq1ebkF"
      }
    },
    {
      "cell_type": "code",
      "source": [
        "def backward(sample,label,weights_hidden,weights_out,bias_hidden,bias_out,lr):\n",
        "  \"\"\"\n",
        "    Performs the backward pass of a simple neural network to compute gradients\n",
        "    and update weights and biases based on the error between predicted and true values.\n",
        "\n",
        "    Parameters:\n",
        "    ----------\n",
        "    sample : numpy.ndarray\n",
        "        The input vector for the backward pass. It should have the same size as `weights_hidden`.\n",
        "    label : float\n",
        "        The true target value corresponding to the input sample.\n",
        "    weights_hidden : numpy.ndarray\n",
        "        The current weights of the hidden layer.\n",
        "    weights_out : float\n",
        "        The current weight of the output layer connecting the hidden layer to the output neuron.\n",
        "    bias_hidden : float\n",
        "        The current bias term for the hidden layer.\n",
        "    bias_out : float\n",
        "        The current bias term for the output layer.\n",
        "    lr : float\n",
        "        The learning rate to scale the updates to weights and biases.\n",
        "\n",
        "    Returns:\n",
        "    -------\n",
        "    weights_hidden : numpy.ndarray\n",
        "        The updated weights for the hidden layer after applying gradient descent.\n",
        "    weights_out : float\n",
        "        The updated weight for the output layer after applying gradient descent.\n",
        "    bias_hidden : float\n",
        "        The updated bias for the hidden layer after applying gradient descent.\n",
        "    bias_out : float\n",
        "        The updated bias for the output layer after applying gradient descent.\n",
        "    error : float\n",
        "        The squared error between the predicted output and the true label.\n",
        "\n",
        "    Example:\n",
        "    -------\n",
        "    >>> import numpy as np\n",
        "    >>> sample = np.array([1.0, 2.0])\n",
        "    >>> label = 1.0\n",
        "    >>> weights_hidden = np.array([0.5, -0.3])\n",
        "    >>> weights_out = 1.2\n",
        "    >>> bias_hidden = 0.1\n",
        "    >>> bias_out = -0.2\n",
        "    >>> lr = 0.01\n",
        "    >>> updated_weights_hidden, updated_weights_out, updated_bias_hidden, updated_bias_out, error = backward(\n",
        "    ...     sample, label, weights_hidden, weights_out, bias_hidden, bias_out, lr)\n",
        "  \"\"\"\n",
        "  #First make a forward pass on the sample to compute outputs for the hidden and the output layers\n",
        "  output,hidden=forward(sample,weights_hidden,weights_out,bias_hidden,bias_out)\n",
        "  #FILL IN\n",
        "  error=None\n",
        "  #Compute the gradients\n",
        "  gradient_wo=None\n",
        "  gradient_bo=None\n",
        "  gradient_wh1=None\n",
        "  gradient_wh2=None\n",
        "  gradient_bh=None\n",
        "  #Update the gradients\n",
        "  weights_hidden[0]=None\n",
        "  weights_hidden[1]=None\n",
        "  weights_out=None\n",
        "  bias_hidden=None\n",
        "  bias_out=None\n",
        "  return weights_hidden,weights_out,bias_hidden,bias_out,error\n"
      ],
      "metadata": {
        "id": "chxh7QvCb9K4"
      },
      "execution_count": null,
      "outputs": []
    },
    {
      "cell_type": "markdown",
      "source": [
        "**Training:**\n",
        "\n",
        "Here, we train the parameters using SGD (Stochastic Gradient Descent). You do not have to change this implementation. Once you have successfully implemented the forward() and backward() functions. The code below will run successfully."
      ],
      "metadata": {
        "id": "vq5Xm8ODTkJL"
      }
    },
    {
      "cell_type": "code",
      "source": [
        "def train(train_data,labels,epochs):\n",
        "  \"\"\"\n",
        "    Trains a simple neural network using stochastic gradient descent (SGD)\n",
        "    over a specified number of epochs.\n",
        "\n",
        "    Parameters:\n",
        "    ----------\n",
        "    train_data : numpy.ndarray\n",
        "        The training dataset, where each row is a sample and each column represents a feature.\n",
        "    labels : numpy.ndarray\n",
        "        The true labels corresponding to the training samples. Must have the same number of rows as `train_data`.\n",
        "    epochs : int\n",
        "        The number of epochs (iterations over the entire dataset) to train the model.\n",
        "\n",
        "    Returns:\n",
        "    -------\n",
        "    weights : list\n",
        "        A list of tuples, where each tuple contains the weights of the hidden layer\n",
        "        and the weight of the output layer at each epoch.\n",
        "    biases : list\n",
        "        A list of tuples, where each tuple contains the bias of the hidden layer\n",
        "        and the bias of the output layer at each epoch.\n",
        "    epoch_errors : list\n",
        "        A list of average errors (mean squared error) per epoch.\n",
        "\n",
        "    Notes:\n",
        "    -----\n",
        "    - This function updates the global variables `weights_hidden`, `weights_out`,\n",
        "      `bias_hidden`, and `bias_out` during training.\n",
        "    - The dataset is shuffled at the start of each epoch to ensure randomness\n",
        "      in training and to prevent overfitting to a specific order of data.\n",
        "\n",
        "    Example:\n",
        "    -------\n",
        "    >>> import numpy as np\n",
        "    >>> train_data = np.array([[1.0, 1.0], [1.0, 0.0], [0.0, 1.0], [0.0, 0.0]])\n",
        "    >>> labels = np.array([1.0, 0.0, 0.0, 0.0])  # AND gate labels\n",
        "    >>> epochs = 1000\n",
        "    >>> weights, biases, epoch_errors = train(train_data, labels, epochs)\n",
        "    >>> print(\"Final Weights:\", weights[-1])\n",
        "    >>> print(\"Final Biases:\", biases[-1])\n",
        "    >>> print(\"Epoch Errors:\", epoch_errors[-10:])  # Print errors from the last 10 epochs\n",
        "  \"\"\"\n",
        "  global weights_hidden\n",
        "  global weights_out\n",
        "  global bias_hidden\n",
        "  global bias_out\n",
        "  weights=[]\n",
        "  biases=[]\n",
        "  epoch_errors=[]\n",
        "  for epoch in range(epochs):\n",
        "    epoch_error=0\n",
        "    weights.append([weights_hidden,weights_out])\n",
        "    biases.append([bias_hidden,bias_out])\n",
        "    shuffle=np.random.permutation(train_data.shape[0])\n",
        "    train_data=train_data[shuffle]\n",
        "    labels=labels[shuffle].reshape(-1)\n",
        "    for x,y in zip(train_data.tolist(),labels.tolist()):\n",
        "      weights_hidden,weights_out,bias_hidden,bias_out,error=backward(x,y,weights_hidden,weights_out,bias_hidden,bias_out,lr=0.0001)\n",
        "      epoch_error+=error\n",
        "    epoch_errors.append(epoch_error/train_data.shape[0])\n",
        "  return weights, biases, epoch_errors"
      ],
      "metadata": {
        "id": "aEGjxGpg7M60"
      },
      "execution_count": null,
      "outputs": []
    },
    {
      "cell_type": "code",
      "source": [
        "train_data=dataset[:,:2]\n",
        "labels=dataset[:,2:]\n",
        "weights, biases, epoch_errors=train(train_data,labels,100)"
      ],
      "metadata": {
        "id": "a_QPOBkE_PfL"
      },
      "execution_count": null,
      "outputs": []
    },
    {
      "cell_type": "markdown",
      "source": [
        "**Evaluation:**\n",
        "\n",
        "Once you have trained for your desired number of epochs, we can plot the training error over the epochs. The typical plot you should look for is the one where the training error decreases overtime and plateaus. You can pick the weight and bias values from any of the epochs where the error has plateued. In the code block following the plot, I have picked the final weight and bias values and made predictions. ***Feel free to change the epoch to whatever you find appropriate based on the generated plot.***"
      ],
      "metadata": {
        "id": "YmYxIcdRW_SC"
      }
    },
    {
      "cell_type": "code",
      "source": [
        "import matplotlib.pyplot as plt\n",
        "plt.plot(epoch_errors)"
      ],
      "metadata": {
        "id": "gb2he_YKAFR-"
      },
      "execution_count": null,
      "outputs": []
    },
    {
      "cell_type": "code",
      "source": [
        "weights_=weights[-1]\n",
        "bias_=biases[-1]\n",
        "weights_hidden=weights_[0]\n",
        "weights_out=weights_[1]\n",
        "bias_hidden=bias_[0]\n",
        "bias_out=bias_[1]\n",
        "o,h=forward(np.array([0,0]),weights_hidden,weights_out,bias_hidden,bias_out)\n",
        "\n",
        "print(\"Prediction for {}, is {}\".format([0,0],o))\n",
        "o,h=forward(np.array([0,1]),weights_hidden,weights_out,bias_hidden,bias_out)\n",
        "print(\"Prediction for {}, is {}\".format([0,1],o))\n",
        "o,h=forward(np.array([1,0]),weights_hidden,weights_out,bias_hidden,bias_out)\n",
        "print(\"Prediction for {}, is {}\".format([1,0],o))\n",
        "o,h=forward(np.array([1,1]),weights_hidden,weights_out,bias_hidden,bias_out)\n",
        "print(\"Prediction for {}, is {}\".format([1,1],o))"
      ],
      "metadata": {
        "id": "5uEk9siWCMdn"
      },
      "execution_count": null,
      "outputs": []
    },
    {
      "cell_type": "markdown",
      "source": [
        "**[3 points] Task-5**\n",
        "\n",
        "The above code should have given you predictions for all possible inputs. Answer the questions based on the obtained predictions:\n",
        "\n",
        "6. (1 point) Is there a significant difference between the predictions and the groundtruth? If yes, why is there such a difference?\n",
        "\n",
        "\n",
        "7. (2 points) Can changing our network in any way improve the predictions? If yes, what changes do you propose and why?"
      ],
      "metadata": {
        "id": "cE56jKaGad67"
      }
    },
    {
      "cell_type": "markdown",
      "source": [
        "##Part II Auto-encoders with Pytorch.\n",
        "\n",
        "An autoencoder is a type of neural network used to learn efficient representations of data, typically for dimensionality reduction or feature learning. It consists of two main parts:\n",
        "\n",
        "- **Encoder:** Maps the input data to a smaller, compressed representation called the \"latent space\" or \"bottleneck\".\n",
        "- **Decoder:** Reconstructs the original input data from the compressed representation.\n",
        "\n",
        "The network is trained to minimize the difference between the input and the reconstructed output, ensuring that the encoder captures the most relevant features of the data. To implement, autoencoders we will use [Pytorch](https://pytorch.org/), which is popular deep learning framework. Although this part of the project does not require a deep understanding of Pytorch, I have posted a tutorial online for those who are interested."
      ],
      "metadata": {
        "id": "RgrcTrG-buZH"
      }
    },
    {
      "cell_type": "markdown",
      "source": [
        "**Network Structure**\n",
        "\n",
        "The network structure for the autoencoder is shown below, in general we care about compressing or reducing the dimensionality of the input which can be used to reconstruct the output. Both the encode and decode layers are modelled as separate multilayer perceptrons optimized with a single error function, the reconstruction loss.\n",
        "\n",
        "       Input (x)\n",
        "          |\n",
        "    [Encoder Layers]\n",
        "          |\n",
        "    Compressed Representation (latent)\n",
        "          |\n",
        "    [Decoder Layers]\n",
        "          |\n",
        "    Reconstructed Input (x_)\n",
        "\n",
        "\n",
        "The encoder takes the input and outputs the compressed latent vector, the decoder takes as input compressed latent vector and outputs the reconstructed  input from the latent vector. Below you will find the code to implement the autoencoder network in Pytorch. Similar to NumPy arrays, Pytorch works with objects of type *Tensor*. All the parameters, and inputs should be provided as tensors.\n",
        "\n",
        "**Note:**\n",
        "- [nn.Linear](https://pytorch.org/docs/stable/generated/torch.nn.Linear.html) creates a hidden layer with the number of neurons specified in the hidden dimension.\n",
        "-  [nn.ReLU()](https://pytorch.org/docs/stable/generated/torch.nn.ReLU.html) is an activation function similar to sigmoid, etc.\n",
        "- The model will be trained on a GPU. To use GPUs in Google Colab, go to \"Runtime\" > \"Change runtime type\" and select a GPU like T4, A100, etc."
      ],
      "metadata": {
        "id": "cjk-IMF3eX3p"
      }
    },
    {
      "cell_type": "code",
      "source": [
        "import torch\n",
        "import torch.nn as nn\n",
        "import torch.optim as optim\n",
        "import torch.nn.functional as F\n",
        "from torch.utils.data import DataLoader, TensorDataset\n",
        "\n",
        "\n",
        "class Autoencoder(nn.Module):\n",
        "    \"\"\"\n",
        "    A simple autoencoder model implemented in PyTorch.\n",
        "    This model compresses input data into a smaller representation (latent space) and\n",
        "    then reconstructs the input data from the compressed representation.\n",
        "\n",
        "    Parameters:\n",
        "    ----------\n",
        "    input_dim : int\n",
        "        The size (number of features) of the input data.\n",
        "    hidden_dim : int\n",
        "        The size of the hidden layers used in both encoder and decoder.\n",
        "    binary_dim : int\n",
        "        The size of the compressed representation (latent space).\n",
        "\n",
        "    Layers:\n",
        "    -------\n",
        "    - Encoder:\n",
        "        * A series of fully connected layers that reduce the input dimension to the binary_dim.\n",
        "        * Includes ReLU activation functions for non-linear transformations.\n",
        "    - Decoder:\n",
        "        * A series of fully connected layers that reconstruct the input data from the binary_dim.\n",
        "        * Includes ReLU activation functions for non-linear transformations.\n",
        "\n",
        "    Methods:\n",
        "    -------\n",
        "    forward(x):\n",
        "        Performs a forward pass through the network. Encodes the input data to a latent\n",
        "        representation and then decodes it back to the reconstructed input.\n",
        "        Returns both the reconstructed input and the latent representation.\n",
        "\n",
        "    Example Usage:\n",
        "    --------------\n",
        "    >>> input_dim = 784\n",
        "    >>> hidden_dim = 128\n",
        "    >>> binary_dim = 64\n",
        "    >>> model = Autoencoder(input_dim, hidden_dim, binary_dim)\n",
        "    >>> x = torch.rand((16, input_dim))  # Batch of 16 samples\n",
        "    >>> x_reconstructed, latent = model(x)\n",
        "    >>> print(x_reconstructed.shape, latent.shape)  # Output: torch.Size([16, 784]), torch.Size([16, 64])\n",
        "    \"\"\"\n",
        "    def __init__(self, input_dim, hidden_dim, binary_dim):\n",
        "        super(Autoencoder, self).__init__()\n",
        "\n",
        "        # Define the encoder network\n",
        "        # It maps the input_dim to a compressed representation (latent space) of size binary_dim\n",
        "        self.encoder = nn.Sequential(\n",
        "            nn.Linear(input_dim, hidden_dim),  # First hidden layer\n",
        "            nn.ReLU(),                         # Non-linearity\n",
        "            nn.Linear(hidden_dim, hidden_dim), # Second hidden layer\n",
        "            nn.ReLU(),                         # Non-linearity\n",
        "            nn.Linear(hidden_dim, binary_dim), # Output layer of the encoder (compressed representation)\n",
        "        )\n",
        "\n",
        "        # Define the decoder network\n",
        "        # It reconstructs the input data from the compressed representation\n",
        "        self.decoder = nn.Sequential(\n",
        "            nn.Linear(binary_dim, hidden_dim), # First hidden layer\n",
        "            nn.ReLU(),                         # Non-linearity\n",
        "            nn.Linear(hidden_dim, hidden_dim), # Second hidden layer\n",
        "            nn.ReLU(),                         # Non-linearity\n",
        "            nn.Linear(hidden_dim, input_dim),  # Output layer of the decoder (reconstructed input)\n",
        "        )\n",
        "\n",
        "    def forward(self, x):\n",
        "        \"\"\"\n",
        "        Performs a forward pass through the autoencoder.\n",
        "\n",
        "        Parameters:\n",
        "        ----------\n",
        "        x : torch.Tensor\n",
        "            The input tensor of shape (batch_size, input_dim).\n",
        "\n",
        "        Returns:\n",
        "        -------\n",
        "        x_ : torch.Tensor\n",
        "            The reconstructed input tensor of the same shape as the input.\n",
        "        latent : torch.Tensor\n",
        "            The compressed representation (latent space) of shape (batch_size, binary_dim).\n",
        "        \"\"\"\n",
        "        # Pass the input through the encoder to obtain the latent representation\n",
        "        latent = self.encoder(x)\n",
        "        # latent=float32_to_float8(latent)\n",
        "        # latent=latent.half()\n",
        "        # latent=latent.float()\n",
        "        # Pass the latent representation through the decoder to reconstruct the input\n",
        "        x_ = self.decoder(latent)\n",
        "\n",
        "        return x_, latent"
      ],
      "metadata": {
        "id": "WmbtfoW-d30U"
      },
      "execution_count": 1,
      "outputs": []
    },
    {
      "cell_type": "markdown",
      "source": [
        "**Dataset**\n",
        "\n",
        "\n",
        "We will use a hand pose dataset for training. Your goal is to reduce the dimensions of the data. The hand pose is comprised of 21 joints in an Image. The images where obtained using [Mediapipe](https://ai.google.dev/edge/mediapipe/solutions/guide). The figure below shows the 21 hand pose points obtained from Mediapipe.\n",
        "\n",
        "![link text](https://ai.google.dev/static/mediapipe/images/solutions/hand-landmarks.png)"
      ],
      "metadata": {
        "id": "cg3cADKDhnK6"
      }
    },
    {
      "cell_type": "markdown",
      "source": [
        "Let us first load our dataset and visualize some poses. The dataset we will use for this is [How2Sign Dataset](https://how2sign.github.io/), an ASL dataset for Automatic ASL recognition. To train our autoencoder I have extracted 296743 right hand poses which you will find in the **right_hand.npy** Numpy file provided along with your project.\n",
        "\n",
        "We start by doing some data transformations and visualize the data.\n",
        "\n",
        "***Note: Except for skipping the last two dimensions, all other data transformations are optional, if you can figure out transformations that can help you to compress the data better, please feel free to do and include your changes in the your discussion write-up***"
      ],
      "metadata": {
        "id": "fc6cC3OXL-KH"
      }
    },
    {
      "cell_type": "code",
      "source": [
        "import numpy as np\n",
        "\n",
        "right_hand_data=np.load(\"right_hand.npy\",allow_pickle=True)\n",
        "print(right_hand_data.shape) # There are 21 joints each with 4 dimensions X,Y,Z and handedness (right or left)\n",
        "\"\"\"\n",
        "The\n",
        "\"\"\"\n",
        "#We will ignore the last two dimensions\n",
        "right_hand_data=right_hand_data[:,:,:2]\n",
        "print(\"Min:{} and Max:{} values before transformation\".format(np.min(right_hand_data),np.max(right_hand_data)))\n",
        "#We scale the data between 0 and 1\n",
        "right_hand_data_transformed=(right_hand_data-np.min(right_hand_data))/(np.max(right_hand_data)-np.min(right_hand_data))\n",
        "print(\"Min:{} and Max:{} values after transformation\".format(np.min(right_hand_data_transformed),np.max(right_hand_data_transformed)))"
      ],
      "metadata": {
        "colab": {
          "base_uri": "https://localhost:8080/"
        },
        "id": "Ja2--n-uL8na",
        "outputId": "97e1377b-c78d-4ec2-dc94-02c1186a76a0"
      },
      "execution_count": 2,
      "outputs": [
        {
          "output_type": "stream",
          "name": "stdout",
          "text": [
            "(296743, 21, 4)\n",
            "Min:-0.06574459373950958 and Max:1.1281461715698242 values before transformation\n",
            "Min:0.0 and Max:1.0 values after transformation\n"
          ]
        }
      ]
    },
    {
      "cell_type": "markdown",
      "source": [
        "We will use the function below to draw the hand_pose on an image and visualize it. The function takes a matplotlib axis and a hand pose to plot the hand pose on the given axis."
      ],
      "metadata": {
        "id": "t_Ne2HA3Z5BE"
      }
    },
    {
      "cell_type": "code",
      "source": [
        "def draw_hand_from_numpy(ax, hand_pose, color='black', radius=1, thickness=2):\n",
        "    \"\"\"\n",
        "    Draw the hand landmarks on a matplotlib axis.\n",
        "\n",
        "    Args:\n",
        "    - ax: The matplotlib axis to draw on.\n",
        "    - hand_pose: A numpy array of shape (21, 3) containing the x, y, z coordinates of hand landmarks.\n",
        "    - color: The color for the landmarks and connections (default is white).\n",
        "    - radius: Radius of circles representing the landmarks.\n",
        "    - thickness: Thickness of the lines connecting the landmarks.\n",
        "    \"\"\"\n",
        "    connections = [\n",
        "        (0, 1), (1, 2), (2, 3), (3, 4),   # Thumb\n",
        "        (0, 5), (5, 6), (6, 7), (7, 8),   # Index finger\n",
        "        (5, 9), (9, 10), (10, 11), (11, 12),  # Middle finger\n",
        "        (9, 13), (13, 14), (14, 15), (15, 16),  # Ring finger\n",
        "        (13, 17), (17, 18), (18, 19), (19, 20)  # Pinky\n",
        "    ]\n",
        "\n",
        "    # Plot connections\n",
        "    for start_idx, end_idx in connections:\n",
        "        start_point = hand_pose[start_idx, :2]  # (x, y)\n",
        "        end_point = hand_pose[end_idx, :2]  # (x, y)\n",
        "        ax.plot([start_point[0], end_point[0]],\n",
        "                [start_point[1], end_point[1]],\n",
        "                color=color, linewidth=thickness)\n",
        "\n",
        "    # Plot landmarks\n",
        "    for i in range(hand_pose.shape[0]):\n",
        "        x, y = hand_pose[i, 0], hand_pose[i, 1]\n",
        "        ax.scatter(x, y, color=color, s=radius * 10)\n",
        "\n",
        "\n"
      ],
      "metadata": {
        "id": "3UIqhNIfZehw"
      },
      "execution_count": 3,
      "outputs": []
    },
    {
      "cell_type": "code",
      "source": [
        "import matplotlib.pyplot as plt\n",
        "\n",
        "rows, cols = 3, 3\n",
        "fig, axes = plt.subplots(rows, cols, figsize=(5, 5))\n",
        "axes = axes.flatten()\n",
        "for i in range(9):\n",
        "  draw_hand_from_numpy(axes[i],right_hand_data_transformed[i])\n",
        "plt.tight_layout()\n",
        "plt.show()"
      ],
      "metadata": {
        "colab": {
          "base_uri": "https://localhost:8080/",
          "height": 506
        },
        "id": "9bqVIHlVZ3t_",
        "outputId": "203fb9c6-d507-4ee6-a3d5-5fdbc909740b"
      },
      "execution_count": 4,
      "outputs": [
        {
          "output_type": "display_data",
          "data": {
            "text/plain": [
              "<Figure size 500x500 with 9 Axes>"
            ],
            "image/png": "[encoded data removed]"
          },
          "metadata": {}
        }
      ]
    },
    {
      "cell_type": "markdown",
      "source": [
        "**Training:**\n",
        "\n",
        "We are now ready to Train. **Note the training assumes that you are operating on a GPU node. If not please change the runtime before you begin.** Not doing so might lead to error.\n",
        "\n",
        "The code below creates train/test split and also initializes the hyperparameters we will use to define the network and train. This is where you will change the hyperparameters as discussed later."
      ],
      "metadata": {
        "id": "OYqv8lxekdaW"
      }
    },
    {
      "cell_type": "code",
      "source": [
        "from sklearn.model_selection import train_test_split\n",
        "right_hand_data_transformed=right_hand_data_transformed.reshape(-1,42).astype(dtype=np.float32) # Reshape each sample into a 1D vector\n",
        "# # Hyperparameters\n",
        "input_dim = 42      # Input dimension (number of features)\n",
        "hidden_dim = 30      # Hidden layer size\n",
        "latent_dim = 21     # Bottleneck latent representation size\n",
        "learning_rate = 0.001\n",
        "num_epochs = 50\n",
        "train,test=train_test_split(right_hand_data_transformed,test_size=0.2,random_state=42)\n",
        "print(train.shape,test.shape)"
      ],
      "metadata": {
        "colab": {
          "base_uri": "https://localhost:8080/"
        },
        "id": "RIKwes8Eklec",
        "outputId": "41332c09-2da3-40b2-b8e2-bd2792cdd682"
      },
      "execution_count": 5,
      "outputs": [
        {
          "output_type": "stream",
          "name": "stdout",
          "text": [
            "(237394, 42) (59349, 42)\n"
          ]
        }
      ]
    },
    {
      "cell_type": "markdown",
      "source": [
        "The next two cells of code, initialize the model and use methods to load the data. **Note we are training using Mini-batch Stochastic gradient descent with a mini-batch size of 100.** You can change this by changing the value of the batch_size parameter, again batch_size is an hyperparameter. We use MSE (Means Square Error) as the loss function and the Adam optimizer to optimize our network parameters, that wills take care of the backward propagation.\n",
        "\n",
        "If you looked at the Autoencoder model definition you will only find the forward definition. Given that Pytorch figures out the required backpropagation computations. Which simplifies designining models and reduces probable errors in our code."
      ],
      "metadata": {
        "id": "tm1Uoxaenhgi"
      }
    },
    {
      "cell_type": "code",
      "source": [
        "train=TensorDataset(torch.tensor(train,dtype=torch.float))\n",
        "dataloader = DataLoader(train, batch_size=100, shuffle=True)\n",
        "model = Autoencoder(input_dim, hidden_dim, latent_dim)\n",
        "model=model.cuda()\n",
        "criterion = nn.MSELoss()\n",
        "optimizer = optim.Adam(model.parameters(), lr=learning_rate)"
      ],
      "metadata": {
        "id": "e0Cyh14alMr2"
      },
      "execution_count": 6,
      "outputs": []
    },
    {
      "cell_type": "code",
      "source": [
        "for epoch in range(num_epochs):\n",
        "      epoch_loss=0\n",
        "      batch_count=0\n",
        "      for batch_train in dataloader:\n",
        "        model.train()\n",
        "        optimizer.zero_grad()\n",
        "\n",
        "        # Forward pass\n",
        "        reconstructed, latent = model(batch_train[0].cuda())\n",
        "        loss = criterion(reconstructed.cuda(), batch_train[0].cuda())\n",
        "\n",
        "        # Backward pass\n",
        "        loss.backward()\n",
        "        optimizer.step()\n",
        "        epoch_loss+=loss.item()\n",
        "        batch_count+=1\n",
        "      if (epoch + 1) % 5 == 0:\n",
        "          print(f\"Epoch [{epoch + 1}/{num_epochs}], Loss: {epoch_loss/batch_count:.9f}\")"
      ],
      "metadata": {
        "colab": {
          "base_uri": "https://localhost:8080/"
        },
        "id": "lL3ZKYz-rfQW",
        "outputId": "ab834b04-735b-4a90-c3a7-bb115f290bb1"
      },
      "execution_count": 7,
      "outputs": [
        {
          "output_type": "stream",
          "name": "stdout",
          "text": [
            "Epoch [5/50], Loss: 0.000089504\n",
            "Epoch [10/50], Loss: 0.000058787\n",
            "Epoch [15/50], Loss: 0.000054808\n",
            "Epoch [20/50], Loss: 0.000050887\n",
            "Epoch [25/50], Loss: 0.000038275\n",
            "Epoch [30/50], Loss: 0.000036616\n",
            "Epoch [35/50], Loss: 0.000029007\n",
            "Epoch [40/50], Loss: 0.000027099\n",
            "Epoch [45/50], Loss: 0.000026616\n",
            "Epoch [50/50], Loss: 0.000022668\n"
          ]
        }
      ]
    },
    {
      "cell_type": "markdown",
      "source": [
        "**Evaluation**\n",
        "\n",
        "We will evaluate the trained model on the test dataset. We compare the trained models reconstruction loss and visualize the original and reconstructed poses."
      ],
      "metadata": {
        "id": "_QRnoe44oddk"
      }
    },
    {
      "cell_type": "code",
      "source": [
        "latent_values=[]\n",
        "input_values=[]\n",
        "reconstructed_values=[]\n",
        "model.eval()\n",
        "with torch.no_grad():\n",
        "    for i in range(test.shape[0]):\n",
        "      test_sample=torch.tensor(test[i],dtype=torch.float32)\n",
        "      reconstructed, binary_latent= model(test_sample.cuda())\n",
        "      latent_values.append(binary_latent.cpu().tolist())\n",
        "      input_values.append(test_sample.cpu().tolist())\n",
        "      reconstructed_values.append(reconstructed.cpu().tolist())"
      ],
      "metadata": {
        "id": "dAuYXUH8vdEH"
      },
      "execution_count": 8,
      "outputs": []
    },
    {
      "cell_type": "code",
      "source": [
        "print(\"The error for the test data is {}\".format(criterion(torch.tensor(input_values),torch.tensor(reconstructed_values))))"
      ],
      "metadata": {
        "colab": {
          "base_uri": "https://localhost:8080/"
        },
        "id": "o2AGHuAT3CXy",
        "outputId": "209a04d7-3fb7-4908-ea49-b3b71c81b8d2"
      },
      "execution_count": 9,
      "outputs": [
        {
          "output_type": "stream",
          "name": "stdout",
          "text": [
            "The error for the test data is 2.1828887838637456e-05\n"
          ]
        }
      ]
    },
    {
      "cell_type": "markdown",
      "source": [
        "Below we visually examine the original and reconstructed poses. The plots in green are the original ones and the ones in Red are reconstructed. As you can see the reconstructions are accurate for the examined samples."
      ],
      "metadata": {
        "id": "G8dBjtr_ClgG"
      }
    },
    {
      "cell_type": "code",
      "source": [
        "rows,cols=4,2\n",
        "fig, axes = plt.subplots(rows, cols, figsize=(5, 5))\n",
        "axes = axes.flatten()\n",
        "for i in range(0,8,2):\n",
        "    ground_truth=np.array(input_values[i+10]).reshape(21,-1)\n",
        "    predicted=np.array(reconstructed_values[i+10]).reshape(21,-1)\n",
        "    draw_hand_from_numpy(axes[i],ground_truth,color='green')\n",
        "    draw_hand_from_numpy(axes[i+1],ground_truth,color='red')\n",
        "plt.tight_layout()\n",
        "plt.show()"
      ],
      "metadata": {
        "colab": {
          "base_uri": "https://localhost:8080/",
          "height": 506
        },
        "id": "8Bseh4tvvwPY",
        "outputId": "f44991b5-c3e6-4e55-91ba-c8fdc392225b"
      },
      "execution_count": 11,
      "outputs": [
        {
          "output_type": "display_data",
          "data": {
            "text/plain": [
              "<Figure size 500x500 with 8 Axes>"
            ],
            "image/png": "[encoded data removed]"
          },
          "metadata": {}
        }
      ]
    },
    {
      "cell_type": "markdown",
      "source": [
        "**[9 points] Task-6** In this task, you have one goal- reduce the dimensionality of the latent layer with the minimal reconstruction loss. You will play with the following hyper-parameters to achieve this while not incurring significant drop in performance:\n",
        "  - Number of hidden layers in the Encoder and Decoder\n",
        "  - Number of hidden units in the hidden layer\n",
        "  - Batch size\n",
        "  - Learning rate\n",
        "  - Number of latent units in the latent dimension\n",
        "  - Number of training epochs\n",
        "  - Feature transformations\n",
        "  - Anything else?\n",
        "\n",
        "**Note1: You will have to retrain the model everytime you change an hyper-parameter and evaluate.**\n",
        "\n",
        "**Note2: Increasing the number of layers for Encoder or Decoder requires changing the Autoencoder model definition**\n",
        "\n",
        "\n",
        "The final set of hyper-parameters, you leave with will be assumed to be the one that you have finalized.\n",
        "\n",
        "***In addition, to leaving the hyper-parameters intact in your final submission you should also write a brief discussion regarding the chosen hyperparameters. Your discussion, should answer the following questions:***\n",
        "\n",
        "- What was the maximum reduction in dimenstionality you could achieve?\n",
        "- What are the major hyperparameters that impacted your performance? For this you should talk about things like, what is impact of breadth vs depth, does changing the learning rate help? Does changing the training time - number of epochs help?\n",
        "- How much is the difference between the original reconstruction loss and your current configuration?\n",
        "- What happens when you tried to reduce the dimensionality of the latent layer further? Is there a bound to the size?\n"
      ],
      "metadata": {
        "id": "H2DNPO5-vzxZ"
      }
    },
    {
      "cell_type": "markdown",
      "source": [
        "\n",
        " Below, the trained version of your model will be saved which will be evaluated on performance. You should include the model as part of the submission."
      ],
      "metadata": {
        "id": "lhQZktjzest5"
      }
    },
    {
      "cell_type": "markdown",
      "source": [
        "**[5 Points] Extra credit** Even reducing the number of dimensions might not significantly reduce the size of the data as we use 32 bit floating point numbers to represent the data during training. For the extra credit, you need to reduce the number of bits required to represent the latent representations. The best possible scenario is to have the latent dimensions be binary in that case each latent value is just a bit. Here are some suggestions to try:\n",
        "\n",
        "- Constraint the parameters to be float16 or float8 values during training\n",
        "- Constraint the latent layer to output only binary values (0 or 1)\n",
        "- Change the latent representation to float16 or float8 after training, *this might not completely work as your model was trained with different range of values.*"
      ],
      "metadata": {
        "id": "ht9A02tjDH6U"
      }
    },
    {
      "cell_type": "code",
      "source": [
        "torch.save(model, \"autoencoder_model.pth\")"
      ],
      "metadata": {
        "id": "SWWfp_j6ezFl"
      },
      "execution_count": null,
      "outputs": []
    },
    {
      "cell_type": "markdown",
      "source": [
        "**Submission Instructions**\n",
        "\n",
        "\n",
        "- Your submission should include three files, please use your lastname in the place holder.\n",
        "\n",
        "  - If your last name is Doe then the file for answers will be answers_Doe.txt:\n",
        "Written answers, the file should be named answers_(lastname).txt\n",
        "  - The ipynb file, the file should be name P3_(lastname).ipynb\n",
        "  - The Autoencoder model file autoencoder_model_(lastname).pkl\n",
        "  \n",
        "- Please add comments to the code in appropriate places\n",
        "\n",
        "###Start Early, Good Luck!"
      ],
      "metadata": {
        "id": "jsYQO-nefbWP"
      }
    }
  ]
}